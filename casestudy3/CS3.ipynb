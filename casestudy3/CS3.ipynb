{
 "cells": [
  {
   "cell_type": "markdown",
   "metadata": {},
   "source": [
    "# Case Study 3 : Textual analysis of movie reviews\n",
    "\n",
    "** Due Date: November 17, 2016 5:59PM**\n",
    "\n",
    "*------------"
   ]
  },
  {
   "cell_type": "markdown",
   "metadata": {},
   "source": [
    "<img src=\"http://www.conversational-technologies.com/nldemos/nlWordle.GIF\">"
   ]
  },
  {
   "cell_type": "markdown",
   "metadata": {},
   "source": [
    "**TEAM Members:** Please EDIT this cell and add the names of all the team members in your team\n",
    "\n",
    "    member 1\n",
    "    \n",
    "    member 2\n",
    "    \n",
    "    ..."
   ]
  },
  {
   "cell_type": "markdown",
   "metadata": {},
   "source": [
    "**Desired outcome of the case study.**\n",
    "* In this case study we will look at movie reviews from the v2.0 polarity dataset comes from\n",
    "the http://www.cs.cornell.edu/people/pabo/movie-review-data.\n",
    "    * It contains written reviews of movies divided into positive and negative reviews.\n",
    "* As in Case Study 2 idea is to *analyze* the data set, make *conjectures*, support or refute those conjectures with *data*, and *tell a story* about the data!\n",
    "    \n",
    "**Required Readings:** \n",
    "* This case study will be based upon the scikit-learn Python library\n",
    "* We will build upon the turtorial \"Working With Text Data\" which can be found at http://scikit-learn.org/stable/tutorial/text_analytics/working_with_text_data.html\n",
    "\n",
    "**Case study assumptions:**\n",
    "* You have access to a python installation\n",
    "\n",
    "**Required Python libraries:**\n",
    "* Numpy (www.numpy.org) (should already be installed from Case Study 2)\n",
    "* Matplotlib (matplotlib.org) (should already be installed from Case Study 2)\n",
    "* Scikit-learn (scikit-learn.org) (avaiable from Enthought Canopy)\n",
    "* You are also welcome to use the Python Natural Language Processing Toolkit (www.nltk.org) (though it is not required).\n",
    "\n",
    "** NOTE **\n",
    "* Please don't forget to save the notebook frequently when working in IPython Notebook, otherwise the changes you made can be lost.\n",
    "\n",
    "*----------------------"
   ]
  },
  {
   "cell_type": "markdown",
   "metadata": {},
   "source": [
    "## Problem 1 (20 points): Complete Exercise 2: Sentiment Analysis on movie reviews from http://scikit-learn.org/stable/tutorial/text_analytics/working_with_text_data.html"
   ]
  },
  {
   "cell_type": "markdown",
   "metadata": {},
   "source": [
    "* Assuming that you have downloaded the scikit-learn source code:\n",
    "    * The data cane be downloaded using doc/tutorial/text_analytics/data/movie_reviews/fetch_data.py\n",
    "    * A skeleton for the solution can be found in doc/tutorial/text_analytics/skeletons/exercise_02_sentiment.py\n",
    "    * A completed solution can be found in doc/tutorial/text_analytics/solutions/exercise_02_sentiment.py\n",
    "* **It is ok to use the solution provided in the scikit-learn distribution as a starting place for your work.**\n",
    "\n",
    "### Modify the solution to Exercise 2 so that it can run in this iPython notebook\n",
    "* This will likely involved moving around data files and/or small modifications to the script."
   ]
  },
  {
   "cell_type": "code",
   "execution_count": 1,
   "metadata": {
    "collapsed": false
   },
   "outputs": [],
   "source": [
    "import sys\n",
    "from sklearn.feature_extraction.text import TfidfVectorizer\n",
    "from sklearn.svm import LinearSVC\n",
    "from sklearn.pipeline import Pipeline\n",
    "from sklearn.model_selection import GridSearchCV\n",
    "from sklearn.datasets import load_files\n",
    "from sklearn.model_selection import train_test_split\n",
    "from sklearn import metrics\n",
    "import pandas as pd\n",
    "import numpy as np\n",
    "import matplotlib.pylab as py\n",
    "import matplotlib.pyplot as plt\n",
    "import scipy\n",
    "from IPython.display import HTML\n",
    "from datetime import datetime\n",
    "from sklearn.svm import LinearSVC\n",
    "from sklearn.neighbors import KNeighborsClassifier\n",
    "lastRunTime = datetime.now().strftime('%Y-%m-%d %H:%M:%S')\n",
    "import re\n",
    "%matplotlib inline"
   ]
  },
  {
   "cell_type": "markdown",
   "metadata": {},
   "source": [
    "** download the data (if not avaliable locally ) and load it into dataset**"
   ]
  },
  {
   "cell_type": "code",
   "execution_count": 2,
   "metadata": {
    "collapsed": false
   },
   "outputs": [
    {
     "name": "stdout",
     "output_type": "stream",
     "text": [
      "n_samples: 2000\n",
      "Done: 2016-11-17 06:52:27\n"
     ]
    }
   ],
   "source": [
    "\"\"\"Script to download the movie review dataset\"\"\"\n",
    "# copied from doc/tutorial/text_analytics/data/movie_reviews/fetch_data.py\n",
    "import os\n",
    "import tarfile\n",
    "from contextlib import closing\n",
    "try:\n",
    "    from urllib import urlopen\n",
    "except ImportError:\n",
    "    from urllib.request import urlopen\n",
    "\n",
    "\n",
    "URL = (\"http://www.cs.cornell.edu/people/pabo/\"\n",
    "       \"movie-review-data/review_polarity.tar.gz\")\n",
    "\n",
    "ARCHIVE_NAME = URL.rsplit('/', 1)[1]\n",
    "DATA_FOLDER = \"txt_sentoken\"\n",
    "\n",
    "\n",
    "if not os.path.exists(DATA_FOLDER):\n",
    "\n",
    "    if not os.path.exists(ARCHIVE_NAME):\n",
    "        print(\"Downloading dataset from %s (3 MB)\" % URL)\n",
    "        opener = urlopen(URL)\n",
    "        with open(ARCHIVE_NAME, 'wb') as archive:\n",
    "            archive.write(opener.read())\n",
    "\n",
    "    print(\"Decompressing %s\" % ARCHIVE_NAME)\n",
    "    with closing(tarfile.open(ARCHIVE_NAME, \"r:gz\")) as archive:\n",
    "        archive.extractall(path='.')\n",
    "    os.remove(ARCHIVE_NAME)\n",
    "    \n",
    "dataset = load_files(DATA_FOLDER, shuffle=False)\n",
    "print(\"n_samples: %d\" % len(dataset.data))\n",
    "\n",
    "print(\"Done: \" + lastRunTime)"
   ]
  },
  {
   "cell_type": "markdown",
   "metadata": {},
   "source": [
    "** Build the text classification pipeline **"
   ]
  },
  {
   "cell_type": "code",
   "execution_count": 3,
   "metadata": {
    "collapsed": false
   },
   "outputs": [
    {
     "name": "stdout",
     "output_type": "stream",
     "text": [
      "0 params - {'vect__ngram_range': (1, 1)}; mean - 0.84; std - 0.01\n",
      "1 params - {'vect__ngram_range': (1, 2)}; mean - 0.87; std - 0.01\n",
      "Done: 2016-11-13 20:05:45\n"
     ]
    }
   ],
   "source": [
    "# split the dataset in training and test set:\n",
    "docs_train, docs_test, y_train, y_test = train_test_split(\n",
    "    dataset.data, dataset.target, test_size=0.25, random_state=None)\n",
    "\n",
    "# TASK: Build a vectorizer / classifier pipeline that filters out tokens\n",
    "# that are too rare or too frequent\n",
    "pipeline = Pipeline([\n",
    "    ('vect', TfidfVectorizer(min_df=3, max_df=0.95)),\n",
    "    ('clf', LinearSVC(C=1000)),\n",
    "])\n",
    "\n",
    "# TASK: Build a grid search to find out whether unigrams or bigrams are\n",
    "# more useful.\n",
    "# Fit the pipeline on the training set using grid search for the parameters\n",
    "parameters = {\n",
    "    'vect__ngram_range': [(1, 1), (1, 2)],\n",
    "}\n",
    "grid_search = GridSearchCV(pipeline, parameters, n_jobs=1)\n",
    "grid_search.fit(docs_train, y_train)\n",
    "\n",
    "# TASK: print the mean and std for each candidate along with the parameter\n",
    "# settings for all the candidates explored by grid search.\n",
    "n_candidates = len(grid_search.cv_results_['params'])\n",
    "for i in range(n_candidates):\n",
    "    print(i, 'params - %s; mean - %0.2f; std - %0.2f'\n",
    "             % (grid_search.cv_results_['params'][i],\n",
    "                grid_search.cv_results_['mean_test_score'][i],\n",
    "                grid_search.cv_results_['std_test_score'][i]))\n",
    "    \n",
    "# TASK: Predict the outcome on the testing set and store it in a variable\n",
    "# named y_predicted\n",
    "y_predicted = grid_search.predict(docs_test)\n",
    "\n",
    "print(\"Done: \" + lastRunTime)"
   ]
  },
  {
   "cell_type": "markdown",
   "metadata": {},
   "source": [
    "** Print the classification report and the confusion matrix **"
   ]
  },
  {
   "cell_type": "code",
   "execution_count": 4,
   "metadata": {
    "collapsed": false
   },
   "outputs": [
    {
     "name": "stdout",
     "output_type": "stream",
     "text": [
      "**Classification Report**\n",
      "\n",
      "             precision    recall  f1-score   support\n",
      "\n",
      "        neg       0.84      0.83      0.84       249\n",
      "        pos       0.83      0.85      0.84       251\n",
      "\n",
      "avg / total       0.84      0.84      0.84       500\n",
      "\n",
      "**Confusion Matrix**\n",
      "\n",
      "[[206  43]\n",
      " [ 38 213]]\n"
     ]
    },
    {
     "data": {
      "image/png": "[encoded data removed]",
      "text/plain": [
       "<matplotlib.figure.Figure at 0x25028660fd0>"
      ]
     },
     "metadata": {},
     "output_type": "display_data"
    },
    {
     "name": "stdout",
     "output_type": "stream",
     "text": [
      "Done: 2016-11-13 20:05:45\n"
     ]
    }
   ],
   "source": [
    "# Print the classification report\n",
    "print(\"**Classification Report**\\n\")\n",
    "print(metrics.classification_report(y_test, y_predicted,\n",
    "                                    target_names=dataset.target_names))\n",
    "\n",
    "# Print and plot the confusion matrix\n",
    "print(\"**Confusion Matrix**\\n\")\n",
    "cm = metrics.confusion_matrix(y_test, y_predicted)\n",
    "print(cm)\n",
    "\n",
    "plt.matshow(cm)\n",
    "plt.show()\n",
    "\n",
    "print(\"Done: \" + lastRunTime)"
   ]
  },
  {
   "cell_type": "markdown",
   "metadata": {},
   "source": [
    "## Problem 2 (20 points): Explore the scikit-learn TfidVectorizer class\n",
    "\n",
    "**Read the documentation for the TfidVectorizer class at http://scikit-learn.org/stable/modules/generated/sklearn.feature_extraction.text.TfidfVectorizer.html.** \n",
    "* Define the term frequency–inverse document frequency (TF-IDF) statistic (http://en.wikipedia.org/wiki/Tf%E2%80%93idf will likely help).\n",
    "* Run the TfidVectorizer class on the training data above (docs_train).\n",
    "* Explore the min_df and max_df parameters of TfidVectorizer.  What do they mean? How do they change the features you get?\n",
    "* Explore the ngram_range parameter of TfidVectorizer.  What does it mean? How does it change the features you get? (Note, large values  of ngram_range may take a long time to run!)"
   ]
  },
  {
   "cell_type": "code",
   "execution_count": 148,
   "metadata": {
    "collapsed": false
   },
   "outputs": [
    {
     "data": {
      "image/png": "[encoded data removed]",
      "text/plain": [
       "<matplotlib.figure.Figure at 0x28179164cc0>"
      ]
     },
     "metadata": {},
     "output_type": "display_data"
    }
   ],
   "source": [
    "#lets examine how min_df affect the number of featuers.\n",
    "# as the paramter accept percentage and absoulte value, we will try the aboulate, we don't expect any change\n",
    "# in the trend if we using the absoulte or percentage though.\n",
    "x_range=np.arange(1,250,2)\n",
    "\n",
    "values=[TfidfVectorizer(max_df=500,min_df=i).fit(dataset.data[:500]).idf_.shape[0] for i in x_range]\n",
    "\n",
    "plt.plot(x_range,values)\n",
    "plt.title('---Min_df vs Features---')\n",
    "plt.ylabel('Features')\n",
    "plt.xlabel('min_df')\n",
    "plt.show()"
   ]
  },
  {
   "cell_type": "code",
   "execution_count": 150,
   "metadata": {
    "collapsed": false
   },
   "outputs": [
    {
     "data": {
      "image/png": "[encoded data removed]",
      "text/plain": [
       "<matplotlib.figure.Figure at 0x28178c270f0>"
      ]
     },
     "metadata": {},
     "output_type": "display_data"
    }
   ],
   "source": [
    "#lets examine how max_df affect the number of featuers.\n",
    "# as the paramter accept percentage and absoulte value, we will try the aboulate, we don't expect any change\n",
    "# in the trend if we using the absoulte or percentage though.\n",
    "x_range=np.arange(10,500,2)\n",
    "\n",
    "values=[TfidfVectorizer(max_df=i).fit(dataset.data[:500]).idf_.shape[0] for i in x_range]\n",
    "\n",
    "plt.plot(x_range,values)\n",
    "plt.title('---Max_df vs Features---')\n",
    "plt.ylabel('Features')\n",
    "plt.xlabel('max_df')\n",
    "plt.show()"
   ]
  },
  {
   "cell_type": "code",
   "execution_count": 154,
   "metadata": {
    "collapsed": false
   },
   "outputs": [
    {
     "data": {
      "image/png": "[encoded data removed]",
      "text/plain": [
       "<matplotlib.figure.Figure at 0x28176b72a58>"
      ]
     },
     "metadata": {},
     "output_type": "display_data"
    }
   ],
   "source": [
    "#Explore how the ngram_range change the number of features; test ngrams from (1,1) to (1,7) on 500 docs.\n",
    "ngram_values=[(1,1),(1,2),(1,3),(1,4),(1,5),(1,6),(1,7)]\n",
    "\n",
    "# Calculate the number of tokens in the vocabulary\n",
    "y=[TfidfVectorizer(ngram_range=i).fit(dataset.data[:500]).idf_.shape[0] for i in ngram_values]\n",
    "\n",
    "# Plot the number of features verses the (1,ngram) range\n",
    "plt.title('---n_gram vs Features---')\n",
    "plt.plot([1,2,3,4,5,6,7],y,'ro')\n",
    "plt.xlabel('n_gram')\n",
    "plt.ylabel('features')\n",
    "plt.show()"
   ]
  },
  {
   "cell_type": "markdown",
   "metadata": {},
   "source": [
    "*------------------------\n",
    "\n",
    "## Problem 3 (20 points): Machine learning algorithms\n"
   ]
  },
  {
   "cell_type": "markdown",
   "metadata": {},
   "source": [
    "* Based upon Problem 2 pick some parameters for TfidfVectorizer\n",
    "    * \"fit\" your TfidfVectorizer using docs_train\n",
    "    * Compute \"Xtrain\", a Tf-idf-weighted document-term matrix using the transform function on docs_train\n",
    "    * Compute \"Xtest\", a Tf-idf-weighted document-term matrix using the transform function on docs_test\n",
    "    * Note, be sure to use the same Tf-idf-weighted class (**\"fit\" using docs_train**) to transform **both** docs_test and docs_train\n",
    "* Examine two classifiers provided by scikit-learn \n",
    "    * LinearSVC\n",
    "    * KNeighborsClassifier\n",
    "    * Try a number of different parameter settings for each and judge your performance using a confusion matrix (see Problem 1 for an example).\n",
    "* Does one classifier, or one set of parameters work better?\n",
    "    * Why do you think it might be working better?\n",
    "* For a particular choice of parameters and classifier, look at 2 examples where the prediction was incorrect.\n",
    "    * Can you conjecture on why the classifier made a mistake for this prediction?"
   ]
  },
  {
   "cell_type": "markdown",
   "metadata": {},
   "source": [
    "** \"fit\" your TfidfVectorizer using docs_train\n",
    "Compute \"Xtrain\", a Tf-idf-weighted document-term matrix using the transform function on docs_train\n",
    "Compute \"Xtest\", a Tf-idf-weighted document-term matrix using the transform function on docs_test **"
   ]
  },
  {
   "cell_type": "code",
   "execution_count": 3,
   "metadata": {
    "collapsed": false,
    "scrolled": true
   },
   "outputs": [
    {
     "name": "stdout",
     "output_type": "stream",
     "text": [
      "Xtrain:(1500, 435651)\n",
      "Xtest:(500, 435651)\n"
     ]
    }
   ],
   "source": [
    "min_df = 1\n",
    "max_df = 0.95\n",
    "ngram_range = (1, 2)\n",
    "\n",
    "q3_docs_train, q3_docs_test, q3_y_train, q3_y_test = train_test_split(\n",
    "    dataset.data, dataset.target, test_size=0.25, random_state=None)\n",
    "\n",
    "TfidfVect= TfidfVectorizer(min_df = min_df, max_df = max_df, ngram_range = ngram_range).fit(q3_docs_train)\n",
    "Xtrain = TfidfVect.transform(q3_docs_train).toarray()\n",
    "print(\"Xtrain:\" + str(Xtrain.shape))\n",
    "Xtest = TfidfVect.transform(q3_docs_test).toarray()\n",
    "print(\"Xtest:\" + str(Xtest.shape))"
   ]
  },
  {
   "cell_type": "markdown",
   "metadata": {},
   "source": [
    "** LinearSVC Examination **"
   ]
  },
  {
   "cell_type": "code",
   "execution_count": 9,
   "metadata": {
    "collapsed": false,
    "scrolled": true
   },
   "outputs": [
    {
     "name": "stdout",
     "output_type": "stream",
     "text": [
      "0 params - {'clf__tol': 1e-05, 'clf__C': 0.01}; mean - 0.61; std - 0.01\n",
      "1 params - {'clf__tol': 0.0001, 'clf__C': 0.01}; mean - 0.61; std - 0.01\n",
      "2 params - {'clf__tol': 0.001, 'clf__C': 0.01}; mean - 0.61; std - 0.01\n",
      "3 params - {'clf__tol': 0.01, 'clf__C': 0.01}; mean - 0.61; std - 0.01\n",
      "4 params - {'clf__tol': 1, 'clf__C': 0.01}; mean - 0.51; std - 0.00\n",
      "5 params - {'clf__tol': 10, 'clf__C': 0.01}; mean - 0.59; std - 0.13\n",
      "6 params - {'clf__tol': 1e-05, 'clf__C': 0.1}; mean - 0.81; std - 0.01\n",
      "7 params - {'clf__tol': 0.0001, 'clf__C': 0.1}; mean - 0.81; std - 0.01\n",
      "8 params - {'clf__tol': 0.001, 'clf__C': 0.1}; mean - 0.81; std - 0.01\n",
      "9 params - {'clf__tol': 0.01, 'clf__C': 0.1}; mean - 0.81; std - 0.01\n",
      "10 params - {'clf__tol': 1, 'clf__C': 0.1}; mean - 0.81; std - 0.01\n",
      "11 params - {'clf__tol': 10, 'clf__C': 0.1}; mean - 0.55; std - 0.06\n",
      "12 params - {'clf__tol': 1e-05, 'clf__C': 0.5}; mean - 0.83; std - 0.01\n",
      "13 params - {'clf__tol': 0.0001, 'clf__C': 0.5}; mean - 0.83; std - 0.01\n",
      "14 params - {'clf__tol': 0.001, 'clf__C': 0.5}; mean - 0.83; std - 0.01\n",
      "15 params - {'clf__tol': 0.01, 'clf__C': 0.5}; mean - 0.83; std - 0.01\n",
      "16 params - {'clf__tol': 1, 'clf__C': 0.5}; mean - 0.83; std - 0.02\n",
      "17 params - {'clf__tol': 10, 'clf__C': 0.5}; mean - 0.58; std - 0.05\n",
      "18 params - {'clf__tol': 1e-05, 'clf__C': 1}; mean - 0.83; std - 0.01\n",
      "19 params - {'clf__tol': 0.0001, 'clf__C': 1}; mean - 0.83; std - 0.01\n",
      "20 params - {'clf__tol': 0.001, 'clf__C': 1}; mean - 0.83; std - 0.01\n",
      "21 params - {'clf__tol': 0.01, 'clf__C': 1}; mean - 0.83; std - 0.01\n",
      "22 params - {'clf__tol': 1, 'clf__C': 1}; mean - 0.82; std - 0.01\n",
      "23 params - {'clf__tol': 10, 'clf__C': 1}; mean - 0.74; std - 0.08\n",
      "24 params - {'clf__tol': 1e-05, 'clf__C': 10}; mean - 0.83; std - 0.01\n",
      "25 params - {'clf__tol': 0.0001, 'clf__C': 10}; mean - 0.83; std - 0.01\n",
      "26 params - {'clf__tol': 0.001, 'clf__C': 10}; mean - 0.83; std - 0.01\n",
      "27 params - {'clf__tol': 0.01, 'clf__C': 10}; mean - 0.83; std - 0.01\n",
      "28 params - {'clf__tol': 1, 'clf__C': 10}; mean - 0.83; std - 0.01\n",
      "29 params - {'clf__tol': 10, 'clf__C': 10}; mean - 0.54; std - 0.05\n",
      "30 params - {'clf__tol': 1e-05, 'clf__C': 100}; mean - 0.84; std - 0.01\n",
      "31 params - {'clf__tol': 0.0001, 'clf__C': 100}; mean - 0.84; std - 0.01\n",
      "32 params - {'clf__tol': 0.001, 'clf__C': 100}; mean - 0.84; std - 0.01\n",
      "33 params - {'clf__tol': 0.01, 'clf__C': 100}; mean - 0.84; std - 0.01\n",
      "34 params - {'clf__tol': 1, 'clf__C': 100}; mean - 0.83; std - 0.01\n",
      "35 params - {'clf__tol': 10, 'clf__C': 100}; mean - 0.62; std - 0.13\n",
      "36 params - {'clf__tol': 1e-05, 'clf__C': 1000}; mean - 0.84; std - 0.01\n",
      "37 params - {'clf__tol': 0.0001, 'clf__C': 1000}; mean - 0.84; std - 0.01\n",
      "38 params - {'clf__tol': 0.001, 'clf__C': 1000}; mean - 0.84; std - 0.01\n",
      "39 params - {'clf__tol': 0.01, 'clf__C': 1000}; mean - 0.84; std - 0.01\n",
      "40 params - {'clf__tol': 1, 'clf__C': 1000}; mean - 0.84; std - 0.01\n",
      "41 params - {'clf__tol': 10, 'clf__C': 1000}; mean - 0.63; std - 0.09\n",
      "Done: 2016-11-13 20:05:45\n"
     ]
    }
   ],
   "source": [
    "pipeline = Pipeline([\n",
    "    ('clf', LinearSVC()),\n",
    "])\n",
    "\n",
    "parameters =  {'clf__C': [.01,.1,.5,1,10,100,1000],\n",
    "              #tol : float, optional (default=1e-4)  \n",
    "              'clf__tol':[0.00001,0.0001,0.001,0.01,1,10],\n",
    "              # combination hinge,l1 && squared_hinge l1 is not supported\n",
    "              # avoid adjusting loss and penalty and stick with the default values\n",
    "              #'clf__loss': ['hinge','squared_hinge'],\n",
    "              #'clf__penalty':['l1','l2'],\n",
    "              }\n",
    "            \n",
    "grid_search = GridSearchCV(pipeline, parameters, n_jobs=1)\n",
    "grid_search.fit(Xtrain, q3_y_train)\n",
    "\n",
    "# print the mean and std for each candidate along with the parameter\n",
    "# settings for all the candidates explored by grid search.\n",
    "n_candidates = len(grid_search.cv_results_['params'])\n",
    "# print top 10\n",
    "for i in range(n_candidates):\n",
    "    print(i, 'params - %s; mean - %0.2f; std - %0.2f'\n",
    "             % (grid_search.cv_results_['params'][i],\n",
    "                grid_search.cv_results_['mean_test_score'][i],\n",
    "                gr\n",
    "                id_search.cv_results_['std_test_score'][i]))\n",
    "\n",
    "print(\"Done: \" + lastRunTime)"
   ]
  },
  {
   "cell_type": "raw",
   "metadata": {},
   "source": [
    "from previous run, we see that big tol(>1) produced bad scores\n",
    "very low C:Penalty parameter of the error term(C<=0.1) also  bad scores\n",
    "but no signficant change in the score between low tol or high C. for example we see that these combination gives the same score(the best in our experiments)\n",
    "\n",
    "36 params - {'clf__tol': 1e-05, 'clf__C': 1000}; mean - 0.84; std - 0.01\n",
    "37 params - {'clf__tol': 0.0001, 'clf__C': 1000}; mean - 0.84; std - 0.01\n",
    "38 params - {'clf__tol': 0.001, 'clf__C': 1000}; mean - 0.84; std - 0.01\n",
    "39 params - {'clf__tol': 0.01, 'clf__C': 1000}; mean - 0.84; std - 0.01\n",
    "30 params - {'clf__tol': 1e-05, 'clf__C': 100}; mean - 0.84; std - 0.01\n",
    "31 params - {'clf__tol': 0.0001, 'clf__C': 100}; mean - 0.84; std - 0.01\n",
    "32 params - {'clf__tol': 0.001, 'clf__C': 100}; mean - 0.84; std - 0.01\n",
    "33 params - {'clf__tol': 0.01, 'clf__C': 100}; mean - 0.84; std - 0.01\n",
    "\n",
    "\n",
    "\n",
    "=======> Conclusion based of the best params outcome :\n",
    "no need to change the default tol : 0.0001\n",
    "Change the default C of 1 to 1000. \n"
   ]
  },
  {
   "cell_type": "code",
   "execution_count": 24,
   "metadata": {
    "collapsed": false
   },
   "outputs": [
    {
     "name": "stdout",
     "output_type": "stream",
     "text": [
      "**Classification Report**\n",
      "\n",
      "             precision    recall  f1-score   support\n",
      "\n",
      "        neg       0.89      0.90      0.90       245\n",
      "        pos       0.90      0.89      0.90       255\n",
      "\n",
      "avg / total       0.90      0.90      0.90       500\n",
      "\n",
      "**Confusion Matrix**\n",
      "\n",
      "[[221  24]\n",
      " [ 27 228]]\n"
     ]
    },
    {
     "data": {
      "image/png": "[encoded data removed]",
      "text/plain": [
       "<matplotlib.figure.Figure at 0x2502e4aadd8>"
      ]
     },
     "metadata": {},
     "output_type": "display_data"
    },
    {
     "name": "stdout",
     "output_type": "stream",
     "text": [
      "Done: 2016-11-13 20:05:45\n"
     ]
    }
   ],
   "source": [
    "y_predicted = grid_search.predict(Xtest)\n",
    "\n",
    "# Print the classification report\n",
    "print(\"**Classification Report**\\n\")\n",
    "print(metrics.classification_report(q3_y_test, y_predicted,\n",
    "                                    target_names=dataset.target_names))\n",
    "\n",
    "# Print and plot the confusion matrix\n",
    "print(\"**Confusion Matrix**\\n\")\n",
    "cm = metrics.confusion_matrix(q3_y_test, y_predicted)\n",
    "print(cm)\n",
    "\n",
    "plt.matshow(cm)\n",
    "plt.show()\n",
    "\n",
    "print(\"Done: \" + lastRunTime)"
   ]
  },
  {
   "cell_type": "code",
   "execution_count": null,
   "metadata": {
    "collapsed": true
   },
   "outputs": [],
   "source": [
    "** KNeighborsClassifier Examination **"
   ]
  },
  {
   "cell_type": "code",
   "execution_count": 4,
   "metadata": {
    "collapsed": false,
    "scrolled": true
   },
   "outputs": [
    {
     "name": "stdout",
     "output_type": "stream",
     "text": [
      "0 params - {'clf__p': 1, 'clf__n_neighbors': 1}; mean - 0.50; std - 0.00\n",
      "1 params - {'clf__p': 2, 'clf__n_neighbors': 1}; mean - 0.66; std - 0.01\n",
      "2 params - {'clf__p': 1, 'clf__n_neighbors': 2}; mean - 0.50; std - 0.00\n",
      "3 params - {'clf__p': 2, 'clf__n_neighbors': 2}; mean - 0.65; std - 0.01\n",
      "4 params - {'clf__p': 1, 'clf__n_neighbors': 3}; mean - 0.51; std - 0.01\n",
      "5 params - {'clf__p': 2, 'clf__n_neighbors': 3}; mean - 0.67; std - 0.00\n",
      "6 params - {'clf__p': 1, 'clf__n_neighbors': 4}; mean - 0.52; std - 0.03\n",
      "7 params - {'clf__p': 2, 'clf__n_neighbors': 4}; mean - 0.67; std - 0.01\n",
      "8 params - {'clf__p': 1, 'clf__n_neighbors': 5}; mean - 0.50; std - 0.01\n",
      "9 params - {'clf__p': 2, 'clf__n_neighbors': 5}; mean - 0.65; std - 0.02\n",
      "10 params - {'clf__p': 1, 'clf__n_neighbors': 6}; mean - 0.52; std - 0.02\n",
      "11 params - {'clf__p': 2, 'clf__n_neighbors': 6}; mean - 0.67; std - 0.02\n",
      "12 params - {'clf__p': 1, 'clf__n_neighbors': 7}; mean - 0.52; std - 0.02\n",
      "13 params - {'clf__p': 2, 'clf__n_neighbors': 7}; mean - 0.66; std - 0.01\n",
      "**Classification Report**\n",
      "\n",
      "             precision    recall  f1-score   support\n",
      "\n",
      "        neg       0.65      0.68      0.66       248\n",
      "        pos       0.67      0.63      0.65       252\n",
      "\n",
      "avg / total       0.66      0.66      0.66       500\n",
      "\n",
      "**Confusion Matrix**\n",
      "\n",
      "[[168  80]\n",
      " [ 92 160]]\n"
     ]
    },
    {
     "data": {
      "image/png": "[encoded data removed]",
      "text/plain": [
       "<matplotlib.figure.Figure at 0x1ace35f6438>"
      ]
     },
     "metadata": {},
     "output_type": "display_data"
    },
    {
     "name": "stdout",
     "output_type": "stream",
     "text": [
      "Done: 2016-11-14 09:02:53\n"
     ]
    }
   ],
   "source": [
    "pipeline = Pipeline([\n",
    "    ('clf', KNeighborsClassifier())\n",
    "])\n",
    "# find the best n_neighbors and best distance p for minkowski(p=2 -> euclidean, p=1-> manhattan)\n",
    "parameters =  {'clf__n_neighbors': [1,2,3,4,5,6,7],\n",
    "              'clf__p':[1,2],\n",
    "              }\n",
    "            \n",
    "grid_search = GridSearchCV(pipeline, parameters, n_jobs=2)\n",
    "grid_search.fit(Xtrain, q3_y_train)\n",
    "\n",
    "# print the mean and std for each candidate along with the parameter\n",
    "# settings for all the candidates explored by grid search.\n",
    "n_candidates = len(grid_search.cv_results_['params'])\n",
    "# print top 10\n",
    "for i in range(n_candidates):\n",
    "    print(i, 'params - %s; mean - %0.2f; std - %0.2f'\n",
    "             % (grid_search.cv_results_['params'][i],\n",
    "                grid_search.cv_results_['mean_test_score'][i],\n",
    "                grid_search.cv_results_['std_test_score'][i]))\n",
    "\n",
    "    \n",
    "    \n",
    "y_predicted = grid_search.predict(Xtest)\n",
    "\n",
    "# Print the classification report\n",
    "print(\"**Classification Report**\\n\")\n",
    "print(metrics.classification_report(q3_y_test, y_predicted,\n",
    "                                    target_names=dataset.target_names))\n",
    "\n",
    "# Print and plot the confusion matrix\n",
    "print(\"**Confusion Matrix**\\n\")\n",
    "cm = metrics.confusion_matrix(q3_y_test, y_predicted)\n",
    "print(cm)\n",
    "\n",
    "plt.matshow(cm)\n",
    "plt.show()\n",
    "\n",
    "print(\"Done: \" + lastRunTime)"
   ]
  },
  {
   "cell_type": "code",
   "execution_count": 8,
   "metadata": {
    "collapsed": false
   },
   "outputs": [
    {
     "name": "stdout",
     "output_type": "stream",
     "text": [
      "{'clf__p': 2, 'clf__n_neighbors': 4}\n"
     ]
    }
   ],
   "source": [
    "print (grid_search.best_params_)\n"
   ]
  },
  {
   "cell_type": "markdown",
   "metadata": {},
   "source": [
    "The best params for KNeighborsClassifier are n_neighbors: 4 and p:2 (euclidean distance).\n",
    "\n",
    "** The result from LinearSVC was way better than KNeighborsClassifier **\n",
    "a good LinearSVC percision imply that there is a good line sperate the reviews,it could be that many instances are close to that hypothetical line from both sides, so when running the KNeighborsClassifier, instances near the line will have close nighbours from instances of the other hypothetical line side. this would cause a high error rate in KNeighborsClassifier that can't fit well to such problem"
   ]
  },
  {
   "cell_type": "markdown",
   "metadata": {},
   "source": [
    "* For a particular choice of parameters and classifier, look at 2 examples where the prediction was incorrect.\n",
    "* Can you conjecture on why the classifier made a mistake for this prediction?"
   ]
  },
  {
   "cell_type": "code",
   "execution_count": 24,
   "metadata": {
    "collapsed": false
   },
   "outputs": [
    {
     "name": "stdout",
     "output_type": "stream",
     "text": [
      "0:neg 1: pos\n",
      "**Classification Report**\n",
      "\n",
      "             precision    recall  f1-score   support\n",
      "\n",
      "        neg       0.89      0.83      0.86       265\n",
      "        pos       0.82      0.89      0.85       235\n",
      "\n",
      "avg / total       0.86      0.86      0.86       500\n",
      "\n",
      "Done: 2016-11-15 14:29:15\n"
     ]
    }
   ],
   "source": [
    "# We will address this problem with the LinearSVC, C=1000 paramater and default for all others.\n",
    "clf  = LinearSVC(C=1000)\n",
    "clf.fit(Xtrain, q3_y_train)\n",
    "y_predicted = clf.predict(Xtest)\n",
    "\n",
    "# lets print the target array so we could know which index refer to positive or negative.\n",
    "print(\"0:\" + dataset.target_names[0] + \" 1: \" + dataset.target_names[1])\n",
    "\n",
    "print(\"**Classification Report**\\n\")\n",
    "print(metrics.classification_report(q3_y_test, y_predicted,\n",
    "                                    target_names=dataset.target_names))\n",
    "\n",
    "print(\"Done: \" + lastRunTime)"
   ]
  },
  {
   "cell_type": "markdown",
   "metadata": {},
   "source": [
    "** find false positive **"
   ]
  },
  {
   "cell_type": "code",
   "execution_count": 40,
   "metadata": {
    "collapsed": false
   },
   "outputs": [
    {
     "name": "stdout",
     "output_type": "stream",
     "text": [
      "** false positive example:  1\n",
      "b'i read the new yorker magazine and i enjoy some of their really in-depth articles about some incident . \\nthey will take some incident like the investigation of a mysterious plane crash and tell you what happened in detail . \\nit becomes a real education in what agencies get involved and how theories are suggested , and what kind of pressure the investigators are under , and just about any other aspect you can think of . \\nfrequently i get the feeling that the article sounded exciting , but i am being told in more detail than i really wanted to know . \\noften i get to the middle of a story and say , ok , it sounded good but i now have invested more time than i am willing to spend on this subject . \\nfilm is a different medium . \\nit is a visual medium . \\nthat slows down the telling of stories much more than people realize . \\ni frequently am surprised to find out how short a film script is and how much of the pages are empty space . \\nthe magazine article and the film script are two very different media . \\nthe insider is a film adaptation of the vanity fair article \" the man who knew too much \" by marie brenner . \\nit is too much an adaptation of a magazine article slowed to the pace of a film . \\nit really verges on being tedious at least at times . \\nfor years the seven big companies knew that they dealt in an addictive drug that caused a host of unhealthy side-effects . \\nbut they pretended for the public that it was unproven and they did not really believe it . \\nthe business was incredibly profitable and the proceeds translated into the political power to squelch and discredit any political movements against big tobacco . \\nthe tide turned when a former vice-president of one of the companies was convinced by the cbs 60 minutes news team to tell the public how much the tobacco companies really knew about the health effects of smoking . \\nthe resulting pressure to stop the story created a small civil war at cbs . \\nwho were the major people involved , what were their motives , how was the story almost killed , how did it get aired anyway ? \\nthat is the story covered in surprising detail by the insider . \\nthis all could have been enthralling , but it is not the sort of thing that a stylist like michael mann would be likely to do well . \\nand in the end , he failed . \\nto make a long story short , the film needed a director who knew how to make a long story short . \\nthe film opens with the cbs 60 minutes team in iran with the assignment to interview a terrorist . \\nwe get a taste for their personal style and how they get the upper hand . \\nthey go from being one newsman blindfolded at the hands of the terrorists to the actual interview with mike wallace ( played by christopher plummer ) . \\nthere the news team under producer lowell bergman ( al pacino ) are ordering around the terrorists and getting away with it . \\nthis seems to have nothing to do with the main line of the story , but later when the tobacco industry is so much harder to manipulate than committed terrorists , we have a wry irony on who really has clout in the world . \\nterrorists can grab the headlines , but the tobacco companies have the real position of power . \\nincongruously intercut with the iran interview sequence we see jeffrey wigand ( russell crowe ) dejectedly returning from work to his home . \\nwe discover that he has been fired and his career brought to a complete halt unexpectedly . \\nhe had been a very profitably rewarded vice-president in charge or research and development at brown and williams tobacco ; now he was unemployed and needed money to support his family . \\nrather than support him his wife liane ( diane venora ) demands of him what are they supposed to do for income . \\nmeanwhile the 60 minutes team trying to do a story on fires started by cigarettes have obtained some data they do not understand . \\nthey offer wigand $12 , 000 just to interpret the data . \\nwigand\\'s severance agreement swears him to secrecy about anything he knows about tobacco dealings , but he is reluctantly he stretches the severance terms . \\nhe is willing to read some documents from another tobacco company and interpret them for bergman . \\nin spite of the secrecy , wigand\\'s former employers seem immediately to know wigand is talking to 60 minutes and he is warned off by former boss thomas sandefur played michael gambon in an all too brief but deliciously sinister role . \\nand so the game begins . \\nwigand is irate at his negative treatment for what he still considered continued to be loyalty to his agreement and his former employer . \\nmeanwhile someone is playing very rough with wigand and his family . \\nthe film examines wigand and the pressures placed on his family as they are caught between two powerful giants . \\nwigand has always wanted to make tobacco safer and has natural sympathies with getting the story out . \\nhe and his family are assaulted psychologically and financially by the giant tobacco industry that had never lost a legal fight . \\nal pacino is given top billing but the wigand family is the core of the insider . \\nthe story is told slowly and in just a bit too much meticulous detail . \\nthe film is 157 minutes and is an extremely demanding film for the audience . \\nthe musical score by pieter bourke , lisa gerrard , and graeme revell is one of the worst in recent memory . \\nit puts ominous chords under some scenes and using voice in ways that become a distraction that gets in the way of the storytelling . \\nalso disturbing is the casting of christopher plummer as mike wallace . \\nplummer and wallace are such different types and wallace is too well-known for even so good an actor as plummer to play him convincingly . \\nthis film might have been a really engaging experience under another director\\'s control . \\nmichael mann was the wrong person to helm this film and the insider lacks intensity because of his style . \\ni rate it a 4 on the 0 to 10 scale and a 0 on the -4 to +4 scale . \\n'\n"
     ]
    }
   ],
   "source": [
    "# to find false positive we need to look on 1 in y_predicted that cooresponst to 0 in the q3_y_test\n",
    "for i in range(len(y_predicted)): \n",
    "    if (y_predicted[i] == 1 and q3_y_test[i]==0):\n",
    "        false_positive_idx = i\n",
    "        break     \n",
    "print('** false positive example: ',false_positive_idx)         \n",
    "print(q3_docs_test[false_positive_idx])\n"
   ]
  },
  {
   "cell_type": "markdown",
   "metadata": {},
   "source": [
    "###\n",
    "\n",
    "we could conjecture that the model falsely classify this review as positive because it includes some positive structures. even the 1st sentence appears very positive\n",
    "\n",
    "** i read the new yorker magazine and i enjoy some of their really in-depth articles about some incident**\n",
    "** frequently i get the feeling that the article sounded exciting **\n",
    "** for even so good an actor as plummer to play him convincingly**\n",
    "** have been enthralling **\n",
    "\n",
    "We run with (1,2) n grams, so maybe positive terms of two words like \"so good\", \"i enjoy\", \"sounded exciting\" and single words \"exciting\",\"enthralling\",\"good\" that could be more frequent in true positive reviews rather than the negative ones contribute to that the model finds it similar to positive reviews rather than negative.\n",
    "\n",
    "\n"
   ]
  },
  {
   "cell_type": "markdown",
   "metadata": {},
   "source": [
    "**find false negative **"
   ]
  },
  {
   "cell_type": "code",
   "execution_count": 41,
   "metadata": {
    "collapsed": false
   },
   "outputs": [
    {
     "name": "stdout",
     "output_type": "stream",
     "text": [
      "** false negative example:  22\n",
      "b'harmless , silly and fun comedy about dim-witted wrestling fans gordie and sean ( david arquette and scott caan ) who idolize current world championship wrestling heavyweight champion jimmy king ( oliver platt ) . \\nwhen king is screwed out of his title by a corrupt promoter ( joe pantoliano ) , gordie and sean take it upon themselves to find their fallen hero and restore his glory . \\nmy biggest fear about ready to rumble was dispatched early on , as the filmmakers are quick to show that wresting is indeed choreographed ( but not fake , mind you ) . \\nthe hook of the movie is that gordie and sean are just too stupid to realize that . \\narquette and caan are suitably over the top with their performances , which is exactly what a movie like this requires , and oliver platt ( one of my favorite actors ) is a riot as the drunken washed-up ex-champion . \\nmany have scoffed at the idea that platt should be playing a heavyweight champion wrestler with an unbeaten record , but for me it just added to the \" silly factor \" of the film , thereby increasing my enjoyment of it . \\none casting complaint however : rose mcgowan as a sexy dancer ? \\nplease . . . \\nif rose mcgowan is sexy then i\\'m marilyn manson . \\ngiven the current state of the actual wcw , if oliver platt were appearing as jimmy king right now on wcw programming , he\\'d be the most popular guy they have . \\non a similar note , the \" plot line \" of the wresting portions of the film are more entertaining than anything the wcw writers have been able to come up with in the last two years . \\nalthough one does have to ask . . . \\nwhy would any wrestling promoter fire the head wrestler of a company who is both unbeaten and extremely popular with the fans ? \\ndirector brian robbins ( you\\'ll remember him as eric from tv\\'s \" head of the class \" ) just knows how to make good dumb movies . \\nthis movie fits in nicely with his previous efforts good burger and varsity blues . \\nand screenwriter steven brill ( the epic mighty ducks trilogy , late last night ) manages to keep things both sophomoric and clever at the same time , with almost all the jokes of the film getting a laugh out of me . \\nthe only exceptions to that were : 1 ) a scene involving a van full of singing nuns and 2 ) any scene involving the old woman wrestling fan . \\nthose moments made me cringe and/or groan . \\nas an added bonus though , the audience is treated to outtakes from the film as the final credits roll . \\n[pg-13] \\n'\n"
     ]
    }
   ],
   "source": [
    "# to find false negative we need to look on 0 in y_predicted that cooresponst to 1 in the q3_y_test\n",
    "for i in range(len(y_predicted)): \n",
    "    if (y_predicted[i] == 0 and q3_y_test[i]==1):\n",
    "        false_negative_idx = i\n",
    "        break\n",
    "print('** false negative example: ', false_negative_idx)     \n",
    "print(q3_docs_test[false_negative_idx])"
   ]
  },
  {
   "cell_type": "markdown",
   "metadata": {},
   "source": [
    "### \n",
    "we could conjecture that the model falsely classify this review as negative because it includes good amount of 1,2 grams of negative terms like \"silly\", \"corrupt promoter\" , \"screwed out\",\"too stupid\",\"complaint \",\"silly factor\"\n",
    "\n",
    "These terms may be more frequent in true negative reviews rather than the positive ones so they contribute to that the model finds it similar to negative reviews rather than positive.\n",
    "\n"
   ]
  },
  {
   "cell_type": "markdown",
   "metadata": {},
   "source": [
    "*------------------------\n",
    "\n",
    "## Problem 4 (20 points): Open Ended Question:  Finding the right plot"
   ]
  },
  {
   "cell_type": "markdown",
   "metadata": {},
   "source": [
    "* Can you find a two dimensional plot in which the positive and negative reviews are separated?\n",
    "    * This problem is hard since you will likely have thousands of features for review, and you will need to transform these thousands of features into just two numbers (so that you can make a 2D plot).\n",
    "* Note, I was not able to find such a plot myself!\n",
    "    * So, this problem is about **trying** but perhaps **not necessarily succeeding**!\n",
    "* I tried two things, neither of which worked very well.\n",
    "    * I first plotted the length of the review versus the number of features we compute that are in that review\n",
    "    * Second I used Principle Component Analysis on a subset of the features.\n",
    "* Can you do better than I did!?"
   ]
  },
  {
   "cell_type": "code",
   "execution_count": 106,
   "metadata": {
    "collapsed": false
   },
   "outputs": [
    {
     "data": {
      "text/plain": [
       "(2000, 21886)"
      ]
     },
     "execution_count": 106,
     "metadata": {},
     "output_type": "execute_result"
    }
   ],
   "source": [
    "# we want to got more representive words (reduce features) as we later want to end up with only 2. \n",
    "min_df = 10\n",
    "max_df = 0.5\n",
    "ngram_range = (1, 2)\n",
    "Xdata = TfidfVectorizer(min_df = min_df, max_df = max_df, ngram_range = ngram_range).fit_transform(dataset.data)\n",
    "Xdata.shape"
   ]
  },
  {
   "cell_type": "code",
   "execution_count": 110,
   "metadata": {
    "collapsed": false
   },
   "outputs": [
    {
     "data": {
      "image/png": "[encoded data removed]",
      "text/plain": [
       "<matplotlib.figure.Figure at 0x28178b7e6a0>"
      ]
     },
     "metadata": {},
     "output_type": "display_data"
    }
   ],
   "source": [
    "# the first intuitve try will be run the PCA on the featuers we got! but as PCA in python doesn't support sparse data\n",
    "# we try thr equivalent TruncatedSVD\n",
    "from sklearn import preprocessing\n",
    "from sklearn.decomposition import TruncatedSVD\n",
    "\n",
    "Xdata_new = TruncatedSVD(n_components=2).fit_transform(Xdata)\n",
    "Xpos = Xdata_new[dataset.target==1][:100]\n",
    "Xneg = Xdata_new[dataset.target==0][:100]\n",
    "plt.plot(Xpos[:,0],Xpos[:,1], '^', markersize=7, color='green', label='Positive')\n",
    "plt.plot(Xneg[:,0],Xneg[:,1], 'o', markersize=7, color='red', label='Negative')\n",
    "plt.legend()\n",
    "plt.title('apply TruncatedSVD')\n",
    "plt.show()"
   ]
  },
  {
   "cell_type": "code",
   "execution_count": 108,
   "metadata": {
    "collapsed": false
   },
   "outputs": [
    {
     "data": {
      "image/png": "[encoded data removed]",
      "text/plain": [
       "<matplotlib.figure.Figure at 0x28179276080>"
      ]
     },
     "metadata": {},
     "output_type": "display_data"
    }
   ],
   "source": [
    "# As the question asked for any speration and not necessarily linear one, we could give a try to KernelPCA with poly. \n",
    "\n",
    "Xdata_new = KernelPCA (n_components=2,kernel='poly').fit_transform(Xdata[:].toarray())\n",
    "\n",
    "Xpos = Xdata_new[dataset.target==1][:100]\n",
    "Xneg = Xdata_new[dataset.target==0][:100]\n",
    "plt.plot(Xpos[:,0],Xpos[:,1], '^', markersize=7, color='green', label='Positive')\n",
    "plt.plot(Xneg[:,0],Xneg[:,1], 'o', markersize=7, color='red', label='Negative')\n",
    "plt.legend()\n",
    "plt.title('apply KernelPCA')\n",
    "plt.show()"
   ]
  },
  {
   "cell_type": "code",
   "execution_count": 113,
   "metadata": {
    "collapsed": false
   },
   "outputs": [
    {
     "data": {
      "image/png": "[encoded data removed]",
      "text/plain": [
       "<matplotlib.figure.Figure at 0x281750a6ef0>"
      ]
     },
     "metadata": {},
     "output_type": "display_data"
    }
   ],
   "source": [
    "#KernelPCA with poly doen't give a good seperation, let give it another try with cosine\n",
    "\n",
    "Xdata_new = KernelPCA (n_components=2,kernel='cosine').fit_transform(Xdata[:].toarray())\n",
    "\n",
    "Xpos = Xdata_new[dataset.target==1][:100]\n",
    "Xneg = Xdata_new[dataset.target==0][:100]\n",
    "plt.plot(Xpos[:,0],Xpos[:,1], '^', markersize=7, color='green', label='Positive')\n",
    "plt.plot(Xneg[:,0],Xneg[:,1], 'o', markersize=7, color='red', label='Negative')\n",
    "plt.legend()\n",
    "plt.title('apply KernelPCA-cosine')\n",
    "plt.show()"
   ]
  },
  {
   "cell_type": "markdown",
   "metadata": {},
   "source": [
    "using dimensions reduction doesn't give good result to separate postive and negative in 2 dimensions.\n",
    "we will try another apporach of defing other features.\n",
    "\n",
    "\n",
    "1- length (negative usually longer)\n",
    "\n",
    "\n",
    "2- number of questions mark(we notice that negative reviews has a lot of  rhetorical questions if the last 90 chars.\n",
    "\n",
    "\n",
    "3- diff between the ratio of negative words and positive words in the last 90 chars."
   ]
  },
  {
   "cell_type": "code",
   "execution_count": 31,
   "metadata": {
    "collapsed": false
   },
   "outputs": [],
   "source": [
    "data_set = dataset.data\n",
    "rev_length = [len(data) for data in data_set]\n",
    "rev_questions_mark = [str(data)[:90].count(\"?\")*100 for data in data_set]\n",
    "\n",
    "positive_pattern = '(?<!not) good| (?<!not) interesting| (?<!not) nice| (?<!not) awesome| (?<!not) excellent| (?<!not) appealing| (?<!not) fascinating| (?<!not) remarkable| (?<!not) first-rate| (?<!not) insightful| (?<!not) clever| (?<!not) charming| (?<!not) comical| (?<!not) charismatic| (?<!not) enjoyable| (?<!not) uproarious| (?<!not) original| (?<!not) tender| (?<!not) hilarious| (?<!not) absorbing| (?<!not) sensitive| (?<!not) riveting| (?<!not) intriguing| (?<!not) powerful| (?<!not) enjoyable| (?<!not) pleasant| (?<!not) surprising| (?<!not) dazzling| (?<!not) thought provoking| (?<!not) imaginative| (?<!not) legendary'\n",
    "rev_positive_ratio = [len(re.findall(positive_pattern, str(data)[:90],re.IGNORECASE))*10000 for data in data_set]\n",
    "\n",
    "negative_patterns = '(?<!not) bad| (?<!not) awful| (?<!not) unimpressive| (?<!not) horrible| (?<!not) unpleasant | (?<!not) second-rate| (?<!not) violent| (?<!not) moronic| (?<!not) third-rate| (?<!not) flawed| (?<!not) juvenile| (?<!not) boring| (?<!not) distasteful| (?<!not) ordinary| (?<!not) disgusting| (?<!not) senseless| (?<!not) static| (?<!not) brutal| (?<!not) confused| (?<!not) disappointing| (?<!not) bloody| (?<!not) silly| (?<!not) tired| (?<!not) predictable| (?<!not) stupid| (?<!not) uninteresting| (?<!not) weak| (?<!not) incredibly tiresome| (?<!not) uneven| (?<!not) outdated| (?<!not) dreadful'\n",
    "rev_negative_ratio= [len(re.findall(negative_patterns, str(data)[:90],re.IGNORECASE))*10000 for data in data_set]\n",
    "\n",
    "ratio_diff = [x - y for x, y in zip(rev_positive_ratio, rev_negative_ratio)]"
   ]
  },
  {
   "cell_type": "code",
   "execution_count": 32,
   "metadata": {
    "collapsed": false
   },
   "outputs": [],
   "source": [
    "features = {'Length': rev_length,'Total Question marks': rev_questions_mark,'positive ngative words ratio diff': ratio_diff}\n",
    "df = pd.DataFrame(features)"
   ]
  },
  {
   "cell_type": "code",
   "execution_count": 35,
   "metadata": {
    "collapsed": false
   },
   "outputs": [
    {
     "data": {
      "image/png": "[encoded data removed]",
      "text/plain": [
       "<matplotlib.figure.Figure at 0x19c1f006940>"
      ]
     },
     "metadata": {},
     "output_type": "display_data"
    }
   ],
   "source": [
    "\n",
    "Xpos = df[dataset.target==1][:50]\n",
    "Xneg = df[dataset.target==0][:50]\n",
    "plt.plot(Xpos['Length'],Xpos['positive ngative words ratio diff'].values, '^', markersize=7, color='green', label='Positive')\n",
    "plt.plot(Xneg['Length'],Xneg['positive ngative words ratio diff'].values, 'o', markersize=7, color='red', label='Negative')\n",
    "plt.legend()\n",
    "plt.title('positive ngative words ratio diff in last sentence Vs length')\n",
    "plt.show()"
   ]
  },
  {
   "cell_type": "markdown",
   "metadata": {},
   "source": [
    "# Report: communicate the results (20 points)\n",
    "\n",
    "(1) (5 points) What data you collected?\n",
    "\n",
    "(2) (5 points) Why this topic is interesting or important to you? (Motivations)\n",
    "\n",
    "(3) (5 points) How did you analyse the data?\n",
    "\n",
    "(4) (5 points) What did you find in the data?\n",
    "(please include figures or tables in the report, but no source code)"
   ]
  },
  {
   "cell_type": "markdown",
   "metadata": {},
   "source": [
    "# Slides (for 10 minutes of presentation) (20 points)\n",
    "\n",
    "\n",
    "1. (5 points) Motivation about the data collection, why the topic is interesting to you. \n",
    "\n",
    "2. (10 points) Communicating Results (figure/table)\n",
    "\n",
    "3. (5 points) Story telling (How all the parts (data, analysis, result) fit together as a story?)"
   ]
  },
  {
   "cell_type": "markdown",
   "metadata": {},
   "source": [
    "*-----------------\n",
    "# Done\n",
    "\n",
    "All set! \n",
    "\n",
    "** What do you need to submit?**\n",
    "\n",
    "* **Notebook File**: Save this IPython notebook, and find the notebook file in your folder (for example, \"filename.ipynb\"). This is the file you need to submit. Please make sure all the plotted tables and figures are in the notebook. If you used \"ipython notebook --pylab=inline\" to open the notebook, all the figures and tables should have shown up in the notebook.\n",
    "\n",
    "\n",
    "* **PPT Slides**: please prepare PPT slides (for 10 minutes' talk) to present about the case study . We will ask two teams which are randomly selected to present their case studies in class for this case study. \n",
    "\n",
    "* ** Report**: please prepare a report (less than 10 pages) to report what you found in the data.\n",
    "    * What is the relationship between this topic and Business Intelligence?\n",
    "    * How did you analyse the data?\n",
    "    * What did you find in the data? \n",
    "    * What conjectures did you make and how did you support or disprove them using data?\n",
    "    * Did you find anything suprising in the data?\n",
    "    * What business decision do you think this data could help answer?  Why?\n",
    "\n",
    "   (please include figures or tables in the report, **but no source code**)\n",
    "\n",
    "*Please compress all the files into a single zipped file.*\n",
    "\n",
    "\n",
    "** How to submit: **\n",
    "\n",
    "        Send an email to rcpaffenroth@wpi.edu and wliu3@wpi.edu with the subject: \"[DS501] Case study 3-TEAM NUMBER ???\"."
   ]
  }
 ],
 "metadata": {
  "anaconda-cloud": {},
  "kernelspec": {
   "display_name": "Python [conda root]",
   "language": "python",
   "name": "conda-root-py"
  },
  "language_info": {
   "codemirror_mode": {
    "name": "ipython",
    "version": 3
   },
   "file_extension": ".py",
   "mimetype": "text/x-python",
   "name": "python",
   "nbconvert_exporter": "python",
   "pygments_lexer": "ipython3",
   "version": "3.5.2"
  }
 },
 "nbformat": 4,
 "nbformat_minor": 0
}
